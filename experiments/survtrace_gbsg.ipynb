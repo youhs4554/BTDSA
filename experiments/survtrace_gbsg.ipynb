{
 "cells": [
  {
   "cell_type": "markdown",
   "id": "2b7425c2",
   "metadata": {},
   "source": [
    "# Run SurvTRACE on GBSG dataset"
   ]
  },
  {
   "cell_type": "code",
   "execution_count": 1,
   "id": "01e4e771",
   "metadata": {},
   "outputs": [],
   "source": [
    "import warnings\n",
    "warnings.filterwarnings('ignore')"
   ]
  },
  {
   "cell_type": "code",
   "execution_count": 2,
   "id": "ed36f5b2",
   "metadata": {},
   "outputs": [],
   "source": [
    "import os, sys\n",
    "sys.path.append(os.path.abspath('../SurvTRACE'))"
   ]
  },
  {
   "cell_type": "code",
   "execution_count": 3,
   "id": "7920014d",
   "metadata": {},
   "outputs": [],
   "source": [
    "import pdb\n",
    "from collections import defaultdict\n",
    "import matplotlib.pyplot as plt\n",
    "\n",
    "from survtrace.dataset import load_data\n",
    "from survtrace.evaluate_utils import Evaluator\n",
    "from survtrace.utils import set_random_seed\n",
    "from survtrace.model import SurvTraceSingle\n",
    "from survtrace.train_utils import Trainer\n",
    "from survtrace.config import STConfig\n",
    "\n",
    "# define the setup parameters\n",
    "STConfig['data'] = 'gbsg'\n",
    "\n",
    "seed = STConfig['seed'] # 1234\n",
    "#seed = 42\n",
    "\n",
    "set_random_seed(seed)\n",
    "\n",
    "hparams = {\n",
    "    'batch_size': 64,\n",
    "    'weight_decay': 0,\n",
    "    'learning_rate': 1e-3,\n",
    "    'epochs': 20,\n",
    "}"
   ]
  },
  {
   "cell_type": "code",
   "execution_count": 4,
   "id": "358ec95d",
   "metadata": {},
   "outputs": [
    {
     "name": "stdout",
     "output_type": "stream",
     "text": [
      "use pytorch-cuda for training.\n",
      "[Train-0]: 39.750836968421936\n",
      "[Val-0]: 1.430763840675354\n",
      "[Train-1]: 30.77250039577484\n",
      "[Val-1]: 1.3748854398727417\n",
      "[Train-2]: 27.913107752799988\n",
      "[Val-2]: 1.3679455518722534\n",
      "[Train-3]: 27.77131462097168\n",
      "[Val-3]: 1.3514004945755005\n",
      "[Train-4]: 27.594568848609924\n",
      "[Val-4]: 1.3398962020874023\n",
      "[Train-5]: 27.405004382133484\n",
      "[Val-5]: 1.316502332687378\n",
      "[Train-6]: 27.383405804634094\n",
      "[Val-6]: 1.3220163583755493\n",
      "EarlyStopping counter: 1 out of 5\n",
      "[Train-7]: 27.330041527748108\n",
      "[Val-7]: 1.3244298696517944\n",
      "EarlyStopping counter: 2 out of 5\n",
      "[Train-8]: 27.199955224990845\n",
      "[Val-8]: 1.3601561784744263\n",
      "EarlyStopping counter: 3 out of 5\n",
      "[Train-9]: 27.118715286254883\n",
      "[Val-9]: 1.3365825414657593\n",
      "EarlyStopping counter: 4 out of 5\n",
      "[Train-10]: 27.14840805530548\n",
      "[Val-10]: 1.3214644193649292\n",
      "EarlyStopping counter: 5 out of 5\n",
      "early stops at epoch 11\n"
     ]
    }
   ],
   "source": [
    "# load data\n",
    "df, df_train, df_y_train, df_test, df_y_test, df_val, df_y_val = load_data(STConfig)\n",
    "\n",
    "# get model\n",
    "model = SurvTraceSingle(STConfig)\n",
    "\n",
    "# initialize a trainer\n",
    "trainer = Trainer(model)\n",
    "train_loss, val_loss = trainer.fit((df_train, df_y_train), (df_val, df_y_val),\n",
    "        batch_size=hparams['batch_size'],\n",
    "        epochs=hparams['epochs'],\n",
    "        learning_rate=hparams['learning_rate'],\n",
    "        weight_decay=hparams['weight_decay'],)"
   ]
  },
  {
   "cell_type": "code",
   "execution_count": 5,
   "id": "b6fbe2c8",
   "metadata": {},
   "outputs": [
    {
     "name": "stdout",
     "output_type": "stream",
     "text": [
      "******************************\n",
      "start evaluation\n",
      "******************************\n",
      "C-td:  0.429652915891448\n",
      "For 0.25 quantile,\n",
      "TD Concordance Index - IPCW: 0.7578260250232215\n",
      "Brier Score: 0.10601060514974099\n",
      "Dynamic AUC:  0.7739519097618426\n",
      "For 0.5 quantile,\n",
      "TD Concordance Index - IPCW: 0.7088535170119311\n",
      "Brier Score: 0.17988183507627967\n",
      "Dynamic AUC:  0.7334135802439432\n",
      "For 0.75 quantile,\n",
      "TD Concordance Index - IPCW: 0.6934510795477832\n",
      "Brier Score: 0.21168381021711033\n",
      "Dynamic AUC:  0.7324651856047422\n",
      "done\n"
     ]
    }
   ],
   "source": [
    "# evaluate model\n",
    "evaluator = Evaluator(df, df_train.index)\n",
    "evaluator.eval(model, (df_test, df_y_test))\n",
    "print(\"done\")"
   ]
  },
  {
   "cell_type": "code",
   "execution_count": 6,
   "id": "fcc7596d",
   "metadata": {},
   "outputs": [
    {
     "data": {
      "image/png": "[encoded data removed]",
      "text/plain": [
       "<Figure size 640x480 with 1 Axes>"
      ]
     },
     "metadata": {},
     "output_type": "display_data"
    }
   ],
   "source": [
    "plt.plot(train_loss, label='train')\n",
    "plt.plot(val_loss, label='val')\n",
    "plt.legend(fontsize=20)\n",
    "plt.xlabel('epoch',fontsize=20)\n",
    "plt.ylabel('loss', fontsize=20)\n",
    "plt.show()"
   ]
  },
  {
   "cell_type": "code",
   "execution_count": null,
   "id": "a37f0348",
   "metadata": {},
   "outputs": [],
   "source": []
  }
 ],
 "metadata": {
  "kernelspec": {
   "display_name": "Python 3 (ipykernel)",
   "language": "python",
   "name": "python3"
  },
  "language_info": {
   "codemirror_mode": {
    "name": "ipython",
    "version": 3
   },
   "file_extension": ".py",
   "mimetype": "text/x-python",
   "name": "python",
   "nbconvert_exporter": "python",
   "pygments_lexer": "ipython3",
   "version": "3.9.16"
  }
 },
 "nbformat": 4,
 "nbformat_minor": 5
}
